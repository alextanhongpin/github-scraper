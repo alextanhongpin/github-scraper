{
 "cells": [
  {
   "cell_type": "code",
   "execution_count": 5,
   "metadata": {
    "collapsed": false
   },
   "outputs": [],
   "source": [
    "from sklearn.feature_extraction.text import TfidfVectorizer, CountVectorizer\n",
    "from sklearn.cluster import KMeans"
   ]
  },
  {
   "cell_type": "code",
   "execution_count": 37,
   "metadata": {
    "collapsed": false
   },
   "outputs": [
    {
     "name": "stdout",
     "output_type": "stream",
     "text": [
      "  (0, 11)\t0.544797212596\n",
      "  (0, 4)\t0.323205929521\n",
      "  (0, 0)\t0.446741507761\n",
      "  (0, 9)\t0.446741507761\n",
      "  (0, 6)\t0.446741507761\n",
      "  (1, 4)\t0.385426103745\n",
      "  (1, 0)\t0.532743439988\n",
      "  (1, 9)\t0.532743439988\n",
      "  (1, 6)\t0.532743439988\n",
      "  (2, 4)\t0.32286546559\n",
      "  (2, 5)\t0.32286546559\n",
      "  (2, 2)\t0.446270911909\n",
      "  (2, 3)\t0.544223325227\n",
      "  (2, 1)\t0.544223325227\n",
      "  (3, 5)\t0.510226601332\n",
      "  (3, 8)\t0.860040007961\n",
      "  (4, 4)\t0.454486257966\n",
      "  (4, 5)\t0.454486257966\n",
      "  (4, 10)\t0.766083861363\n",
      "  (5, 5)\t0.416963881742\n",
      "  (5, 2)\t0.576335568742\n",
      "  (5, 7)\t0.702835993334\n",
      "[0] [0, 0, 1, 2, 2, 1] [[ 0.48974247  0.          0.          0.          0.35431602  0.\n",
      "   0.48974247  0.          0.          0.48974247  0.          0.27239861]\n",
      " [ 0.          0.27211166  0.51130324  0.27211166  0.16143273  0.36991467\n",
      "   0.          0.351418    0.          0.          0.          0.        ]\n",
      " [ 0.          0.          0.          0.          0.22724313  0.48235643\n",
      "   0.          0.          0.43002     0.          0.38304193  0.        ]]\n",
      "this is awesome machine learning\n",
      "machine learning is awesome\n"
     ]
    }
   ],
   "source": [
    "\n",
    "corpus = [\n",
    "    'this is awesome machine learning',\n",
    "    'machine learning is awesome',\n",
    "    'javascript developers is in demand',\n",
    "    'I love javascript',\n",
    "    'is javascript nice?',\n",
    "    'developers like javascript'\n",
    "]\n",
    "\n",
    "transformer = TfidfVectorizer()\n",
    "\n",
    "tfidf = transformer.fit_transform(corpus)\n",
    "print(tfidf)\n",
    "km = KMeans(3)\n",
    "\n",
    "X_test = transformer.transform(['machine learning is radical'])\n",
    "kmresult = km.fit(tfidf).predict(X_test)\n",
    "\n",
    "print(kmresult, km.labels_.tolist(), km.cluster_centers_)\n",
    "indices = [i for i, centroid in enumerate(km.labels_.tolist()) if kmresult == centroid]\n",
    "\n",
    "for i in indices:\n",
    "    print(corpus[i])"
   ]
  }
 ],
 "metadata": {
  "kernelspec": {
   "display_name": "Python 3",
   "language": "python",
   "name": "python3"
  },
  "language_info": {
   "codemirror_mode": {
    "name": "ipython",
    "version": 3
   },
   "file_extension": ".py",
   "mimetype": "text/x-python",
   "name": "python",
   "nbconvert_exporter": "python",
   "pygments_lexer": "ipython3",
   "version": "3.6.2"
  }
 },
 "nbformat": 4,
 "nbformat_minor": 2
}
