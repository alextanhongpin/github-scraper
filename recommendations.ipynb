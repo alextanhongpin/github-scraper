{
 "cells": [
  {
   "cell_type": "code",
   "execution_count": 12,
   "metadata": {
    "collapsed": false
   },
   "outputs": [],
   "source": [
    "import json\n",
    "import re\n",
    "from sklearn.feature_extraction.text import CountVectorizer\n",
    "from nltk.corpus import stopwords\n",
    "from scipy.stats import pearsonr\n",
    "from sklearn.metrics.pairwise import euclidean_distances, cosine_similarity\n",
    "\n",
    "cached_stopwords = stopwords.words(\"english\")"
   ]
  },
  {
   "cell_type": "code",
   "execution_count": 33,
   "metadata": {
    "collapsed": false,
    "scrolled": true
   },
   "outputs": [
    {
     "name": "stdout",
     "output_type": "stream",
     "text": [
      "loaded 42817 repos\n"
     ]
    }
   ],
   "source": [
    "count_vec = CountVectorizer()\n",
    "\n",
    "def xstr(s):\n",
    "    if s is None:\n",
    "        return ''\n",
    "    return s\n",
    "\n",
    "items = {}\n",
    "users = {}\n",
    "input_file = 'db/repos'\n",
    "\n",
    "with open(input_file, 'r') as f:\n",
    "    data = [json.loads(line) for line in f]\n",
    "    print('loaded {} repos'.format(len(data)))\n",
    "    for item in data:\n",
    "        login = item['owner']['login']\n",
    "        if users.get(login) is None:\n",
    "            users[login] = item['owner']\n",
    "\n",
    "        name = xstr(item['name'])\n",
    "        description = xstr(item['description'])\n",
    "        language = xstr(item['language'])\n",
    "        repo = 'uniquerepoidentifierx00' # Use this unique keyword as the repo count\n",
    "        \n",
    "        if items.get(login) is None:\n",
    "            items[login] = []\n",
    "        keywords = name + ' ' + description + ' ' + language + ' ' + repo\n",
    "        \n",
    "        X_text = re.sub('\\W+', ' ', keywords).lower().split(' ')\n",
    "        X_text = [text for text in X_text if text not in cached_stopwords and text != '']\n",
    "        # Second tuple\n",
    "        [items[login].append(txt) for txt in X_text]\n",
    "\n",
    "# Handle the count vector first\n",
    "out = count_vec.fit_transform([' '.join(items[item]) \n",
    "                               for key, item in enumerate(items)]).toarray()"
   ]
  },
  {
   "cell_type": "code",
   "execution_count": 32,
   "metadata": {
    "collapsed": false
   },
   "outputs": [
    {
     "name": "stdout",
     "output_type": "stream",
     "text": [
      "alextanhongpin [('erikdubbelboer', 0.88967775278982941), ('roylee0704', 0.88443938989526938), ('cmeon', 0.86537505937492742), ('satnami', 0.85712107806647686), ('scr1p7ed', 0.85589057248007638), ('piyushchauhan2011', 0.85433961766282274), ('dhilip89', 0.8533431314867167), ('cchongXD', 0.8513853588530097)]\n"
     ]
    }
   ],
   "source": [
    "scores = {}\n",
    "for i, user1 in enumerate(items):\n",
    "    if user1 != 'alextanhongpin':\n",
    "        continue\n",
    "    for j, user2 in enumerate(items):\n",
    "        if user1 is not user2:\n",
    "            score = cosine_similarity([out[i]], [out[j]]).flatten()[0]\n",
    "#             score = 1 / (1 + euclidean_distances([out[i]], [out[j]])[0][0])\n",
    "            if scores.get(user1) is None:\n",
    "                scores[user1] = []\n",
    "#             print('similarity between user {} and {} is {}'.format(user1, user2, score))\n",
    "            scores[user1].append((user2, score))\n",
    "\n",
    "for i, user in enumerate(scores):\n",
    "    top_n = sorted(scores[user], key=lambda tup: tup[1], reverse=True)[:8]\n",
    "    non_zero = [(user, score) for (user, score) in top_n if score != 0]\n",
    "    if (len(non_zero) > 0):\n",
    "        print(user, non_zero)"
   ]
  },
  {
   "cell_type": "code",
   "execution_count": 34,
   "metadata": {
    "collapsed": false
   },
   "outputs": [
    {
     "name": "stdout",
     "output_type": "stream",
     "text": [
      "{'login': 'alextanhongpin', 'id': 6033638, 'avatar_url': 'https://avatars3.githubusercontent.com/u/6033638?v=4', 'gravatar_id': '', 'url': 'https://api.github.com/users/alextanhongpin', 'html_url': 'https://github.com/alextanhongpin', 'followers_url': 'https://api.github.com/users/alextanhongpin/followers', 'following_url': 'https://api.github.com/users/alextanhongpin/following{/other_user}', 'gists_url': 'https://api.github.com/users/alextanhongpin/gists{/gist_id}', 'starred_url': 'https://api.github.com/users/alextanhongpin/starred{/owner}{/repo}', 'subscriptions_url': 'https://api.github.com/users/alextanhongpin/subscriptions', 'organizations_url': 'https://api.github.com/users/alextanhongpin/orgs', 'repos_url': 'https://api.github.com/users/alextanhongpin/repos', 'events_url': 'https://api.github.com/users/alextanhongpin/events{/privacy}', 'received_events_url': 'https://api.github.com/users/alextanhongpin/received_events', 'type': 'User', 'site_admin': False}\n"
     ]
    }
   ],
   "source": [
    "print(users['alextanhongpin'])"
   ]
  }
 ],
 "metadata": {
  "kernelspec": {
   "display_name": "Python 3",
   "language": "python",
   "name": "python3"
  },
  "language_info": {
   "codemirror_mode": {
    "name": "ipython",
    "version": 3
   },
   "file_extension": ".py",
   "mimetype": "text/x-python",
   "name": "python",
   "nbconvert_exporter": "python",
   "pygments_lexer": "ipython3",
   "version": "3.6.2"
  }
 },
 "nbformat": 4,
 "nbformat_minor": 2
}
