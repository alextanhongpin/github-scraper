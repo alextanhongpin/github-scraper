{
 "cells": [
  {
   "cell_type": "code",
   "execution_count": 175,
   "metadata": {
    "collapsed": false
   },
   "outputs": [],
   "source": [
    "import json\n",
    "import re\n",
    "from sklearn.feature_extraction.text import CountVectorizer\n",
    "from nltk.corpus import stopwords\n",
    "from scipy.stats import pearsonr\n",
    "\n",
    "cached_stopwords = stopwords.words(\"english\")"
   ]
  },
  {
   "cell_type": "code",
   "execution_count": 176,
   "metadata": {
    "collapsed": false
   },
   "outputs": [
    {
     "name": "stdout",
     "output_type": "stream",
     "text": [
      "[[ 1  2  0  4  1  1  1  2  1  1  1  0  2  1  3  2  0  0  1  2  2  2  0  2\n",
      "   2  2  0  2  2  3  1  1  1  1  1  1  1  1  2  2  1  1  1  1  2  2  0  1\n",
      "   1  1  0  3  2  1  2  2  0  2  4  2  1  0  2  0  2  0  0  1  0  2  1  3\n",
      "   1  2  0  0  1  0  2  2  1  1  0  1  2  3  0  1  1  2  1 11  1  6  1  1\n",
      "   2  1  2  0  0  0  1  0  0  1  1  1  1  2  1  1  2  0  0  0  1  2  0  1\n",
      "   1  1  2  1  1  1  1  3  1  0  0  1  1  2  1  3  3  0  0  2  1  1  1  2\n",
      "   2  1  1  5  0  2  0  2  0  3  2  1  1  0  2  1  1  1  0  1  1  1  2  0\n",
      "   0  1  1]\n",
      " [ 0  0  1  0  0  0  0  0  1  0  0  2  0  0  0  0  2  1  0  0  0  0  1  0\n",
      "   0  0  2  0  0  0  0  0  0  0  0  0  0  0  0  0  0  0  0  0  0  0  1  0\n",
      "   0  0  1  0  0  0  0  0  2  0  0  0  1  1  0  1  0  1  1  0  5  3  0  0\n",
      "   0  0  1  1  0  2  0  3  3  0  1  0  2  0  1  0  0  0  1  1  0  0  0  0\n",
      "   0  0  0  1  1  2  0  1  1  0  0  0  0  0  0  0  0  2  1  1  0  0  1  0\n",
      "   0  0  0  0  0  0  0  0  0  1  1  0  0  0  0  0  0  1  3  0  0  0  0  0\n",
      "   0  0  0  0  1  0  1  0  1  0  0  0  0  1  0  0  0  0  1  0  0  0  0  1\n",
      "   1  0  0]]\n",
      "1.59220818616e-05\n"
     ]
    }
   ],
   "source": [
    "input_file = 'data/alextanhongpin.json'\n",
    "\n",
    "count_vec = CountVectorizer()\n",
    "dict_vec = DictVectorizer()\n",
    "\n",
    "def xstr(s):\n",
    "    if s is None:\n",
    "        return ''\n",
    "    return s\n",
    "\n",
    "items = {}\n",
    "with open(input_file) as f:\n",
    "    data = json.load(f)\n",
    "    for item in data['data']:\n",
    "        if items.get(item['login']) is None:\n",
    "            items[item['login']] = (item['login'], [], [])\n",
    "        keywords = xstr(item['name']) + ' ' + xstr(item['description']) + ' ' + xstr(item['language'])\n",
    "        X_text = re.sub('\\W+', ' ', keywords).lower().split(' ')\n",
    "        X_text = [text for text in X_text if text not in cached_stopwords]\n",
    "        if languages.get(item['language']) is None:\n",
    "            languages[item['language']] = 0\n",
    "        languages[item['language']] += 1\n",
    "\n",
    "        # Second tuple\n",
    "        [items[item['login']][1].append(txt) for txt in X_text]\n",
    "        \n",
    "        # Third tuple\n",
    "#         items[item['login']][2].append(X_dict)\n",
    "\n",
    "\n",
    "\n",
    "# Handle the count vector first\n",
    "out = count_vec.fit_transform([' '.join(items[item][1]) \n",
    "                         for key, item in enumerate(items)]).toarray()\n",
    "# print(count_vec.get_feature_names())\n",
    "print(out)\n",
    "\n",
    "print(pearsonr(out[0], out[1])[1])"
   ]
  },
  {
   "cell_type": "code",
   "execution_count": null,
   "metadata": {
    "collapsed": true
   },
   "outputs": [],
   "source": []
  }
 ],
 "metadata": {
  "kernelspec": {
   "display_name": "Python 3",
   "language": "python",
   "name": "python3"
  },
  "language_info": {
   "codemirror_mode": {
    "name": "ipython",
    "version": 3
   },
   "file_extension": ".py",
   "mimetype": "text/x-python",
   "name": "python",
   "nbconvert_exporter": "python",
   "pygments_lexer": "ipython3",
   "version": "3.6.2"
  }
 },
 "nbformat": 4,
 "nbformat_minor": 2
}
